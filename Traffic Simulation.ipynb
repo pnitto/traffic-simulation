{
 "cells": [
  {
   "cell_type": "code",
   "execution_count": 258,
   "metadata": {
    "collapsed": false
   },
   "outputs": [
    {
     "data": {
      "text/plain": [
       "'class Simulation:\\n    \\n    def __init__(self, car_list=[], max_cars=30):\\n        self.car_list = car_list\\n        self.max_cars = max_cars'"
      ]
     },
     "execution_count": 258,
     "metadata": {},
     "output_type": "execute_result"
    }
   ],
   "source": [
    "import random\n",
    "import numpy as np\n",
    "import matplotlib.pyplot as plt\n",
    "\n",
    "\n",
    "\n",
    "class Road:\n",
    "   \n",
    "    def __init__(self):\n",
    "        self.road = 1000\n",
    "    \n",
    "    def __str__(self):\n",
    "        return self.road\n",
    "\n",
    "        \n",
    "class Car:\n",
    "    \n",
    "    def __init__(self, location, car_following):\n",
    "       \n",
    "        self.top_speed = 33\n",
    "        self.speed = 0\n",
    "        self.min_distance = int(self.speed + 15)\n",
    "        self.location = location\n",
    "        self.car_following = car_following\n",
    "      \n",
    "       \n",
    "    def start(self):\n",
    "        self.accelerate()\n",
    "        pass\n",
    "    \"\"\"def car_in_front(self):\n",
    "        if self.location >= self.car_in_front - 15:\n",
    "            self.accelerate()\n",
    "        else:\n",
    "            self.speed = self.speed.car_in_front\"\"\"\n",
    "        #Trying to indentify the location of cars\n",
    "    def accelerate(self):\n",
    "        if self.speed < self.top_speed:\n",
    "            self.speed += 2\n",
    "            return\n",
    "        elif self.speed >= self.top_speed:\n",
    "            self.speed = self.top_speed\n",
    "            return\n",
    "        else:\n",
    "            self.speed = self.car_following.speed\n",
    "            return\n",
    "            \n",
    "    def slow_down(self):\n",
    "        if random.random() <= .1:\n",
    "            self.speed -= 2\n",
    "        if self.speed < 0:\n",
    "            self.speed = 0\n",
    "            \n",
    "    def simulate(self):\n",
    "        if self.car_following.location > self.min_distance:\n",
    "            self.accelerate()\n",
    "            self.slow_down()\n",
    "            self.location += self.speed\n",
    "            if self.location >= road.road:\n",
    "                self.location -= road.road\n",
    "            else:\n",
    "                self.slow_down()\n",
    "                self.location += self.speed\n",
    "                if self.location >= road.road:\n",
    "                    self.location -= road.road\n",
    "\n",
    "##Couldn't get this part to work ^^^^^^ I am trying to find the location of the car in front.\n",
    "\n",
    "\"\"\"class Simulation:\n",
    "    \n",
    "    def __init__(self, car_list=[], max_cars=30):\n",
    "        self.car_list = car_list\n",
    "        self.max_cars = max_cars\"\"\"    \n",
    "#car = Car()\n",
    "\n",
    "\n",
    "\n",
    "#road = Road()\n",
    "#print(road.road)\n",
    "#print(car.location)\n",
    "#car.accelerate()\n",
    "#print(car.location)\n",
    "#car.accelerate()\n",
    "#car.slow_down()\n",
    "#car.accelerate()\n",
    "#car.slow_down()\n",
    "#car.slow_down()\n",
    "\n",
    "\n",
    "#car.location_of_car()\n",
    "#car.accelerate()\n",
    "#print(car.speed)\n",
    "#print(car.location)\n",
    "#car.location_of_car()\n",
    "#print(car.location)\n",
    "#print(car.location_of_car)\n",
    "\n",
    "#print(car.accelerate)\n",
    "\n",
    "        \n",
    "    "
   ]
  },
  {
   "cell_type": "code",
   "execution_count": null,
   "metadata": {
    "collapsed": true
   },
   "outputs": [],
   "source": []
  },
  {
   "cell_type": "code",
   "execution_count": null,
   "metadata": {
    "collapsed": true
   },
   "outputs": [],
   "source": []
  }
 ],
 "metadata": {
  "kernelspec": {
   "display_name": "Python 3",
   "language": "python",
   "name": "python3"
  },
  "language_info": {
   "codemirror_mode": {
    "name": "ipython",
    "version": 3
   },
   "file_extension": ".py",
   "mimetype": "text/x-python",
   "name": "python",
   "nbconvert_exporter": "python",
   "pygments_lexer": "ipython3",
   "version": "3.4.3"
  }
 },
 "nbformat": 4,
 "nbformat_minor": 0
}
