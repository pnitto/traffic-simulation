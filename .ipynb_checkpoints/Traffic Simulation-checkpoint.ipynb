{
 "cells": [
  {
   "cell_type": "markdown",
   "metadata": {},
   "source": [
    "#Traffic Simulation"
   ]
  },
  {
   "cell_type": "code",
   "execution_count": 11,
   "metadata": {
    "collapsed": true
   },
   "outputs": [],
   "source": [
    "import random\n",
    "import numpy as np\n",
    "import matplotlib.pyplot as plt\n",
    "import math\n",
    "import statistics\n",
    "%matplotlib inline"
   ]
  },
  {
   "cell_type": "code",
   "execution_count": 65,
   "metadata": {
    "collapsed": false
   },
   "outputs": [],
   "source": [
    "import random\n",
    "\n",
    "class Road:\n",
    "   \n",
    "    def __init__(self):\n",
    "        self.road = 1000\n",
    "    \n",
    "    def __str__(self):\n",
    "        return self.road\n",
    "\n",
    "        \n",
    "class Car:\n",
    "    #defining the different attributes of a car\n",
    "    def __init__(self, location, car_following=None):\n",
    "        self.speed = 0\n",
    "        self.min_distance = int(self.speed + 15)\n",
    "        self.location = location\n",
    "        self.car_following = car_following\n",
    "        self.top_speed = 33\n",
    "    \n",
    "    def accelerate(self):\n",
    "        if self.speed < self.top_speed:\n",
    "            self.speed += 2\n",
    "            return\n",
    "        else:\n",
    "            self.speed = self.car_following.speed\n",
    "            return\n",
    "    # a car has a 10% chance of slowing down\n",
    "    def slow_down(self):\n",
    "        random_slow = random.randint(1,10)\n",
    "        if random_slow == 1:\n",
    "            self.speed -= 2\n",
    "            if self.speed < 0:\n",
    "                self.speed = 0\n",
    "    \n",
    "    def simulation(self):\n",
    "        if self.car_following.location > self.min_distance:\n",
    "            self.accelerate()\n",
    "            self.slow_down()\n",
    "            self.location += self.speed\n",
    "            if self.location >= road.road:\n",
    "                self.location -= road.road\n",
    "        #This function is starting the traffic simulation.\n",
    "        #It is telling cars to speed up if there is too much distance between them.\n",
    "        #Cars will also be randomly slowing down and if the cars go past 1000m then they will go to the beginnning.\n",
    "        \n",
    "\n",
    "\n",
    "road = Road()\n",
    "car_list = []\n",
    "location = 1000\n",
    "car_in_front = None\n",
    "car_locations = []\n",
    "road_log = []\n",
    "in_range = []\n",
    "one_minute_log = []\n",
    "cars_speed = []\n",
    "\n",
    "# this is generating a list of 30 cars\n",
    "for x in range(30):\n",
    "    spawn_car = Car(location, car_in_front)\n",
    "    car_list.append(spawn_car)\n",
    "    car_list[0].car_following = car_list[-1]\n",
    "    location -= 33\n",
    "    car_in_front = spawn_car\n",
    "\n",
    "# This is simulating the race for 1 minute(60 iterations)\n",
    "for x in range(60):\n",
    "    for car in car_list:\n",
    "        car.simulation()\n",
    "        [cars_speed.append(car.speed)]\n",
    "        [car_locations.append(car.location)]\n",
    "        [in_range.append(x)]\n",
    "    [road_log.append(car_locations)]\n",
    "    one_minute_log.append(in_range)"
   ]
  },
  {
   "cell_type": "code",
   "execution_count": 66,
   "metadata": {
    "collapsed": false
   },
   "outputs": [
    {
     "data": {
      "image/png": "[encoded data removed]",
      "text/plain": [
       "<matplotlib.figure.Figure at 0x1108e2048>"
      ]
     },
     "metadata": {},
     "output_type": "display_data"
    }
   ],
   "source": [
    "x = traffic_log\n",
    "y = one_minute_log\n",
    "plt.rcParams['figure.figsize'] = 20, 10\n",
    "plt.scatter(x, y, marker = \"_\", c=['r','k'])\n",
    "plt.show()"
   ]
  },
  {
   "cell_type": "markdown",
   "metadata": {},
   "source": [
    "##Optimal Speed"
   ]
  },
  {
   "cell_type": "code",
   "execution_count": 67,
   "metadata": {
    "collapsed": false
   },
   "outputs": [
    {
     "name": "stdout",
     "output_type": "stream",
     "text": [
      "Average Speed: 27.61777777777778\n",
      "Variance: 81.66279506172839\n",
      "Standard Deviation: 9.036746929162529\n",
      "Optimal_speed: 36.65452470694031\n"
     ]
    }
   ],
   "source": [
    "average_speed = statistics.mean(cars_speed)\n",
    "print(\"Average Speed: {}\".format(average_speed))\n",
    "var = []\n",
    "for x in cars_speed:\n",
    "    var.append((x - average_speed)**2)\n",
    "var = statistics.mean(var)\n",
    "print(\"Variance: {}\".format(var))\n",
    "stdv = var**(.5)\n",
    "print(\"Standard Deviation: {}\".format(stdv))\n",
    "optimal_speed = average_speed + stdv\n",
    "\n",
    "print(\"Optimal_speed: {}\".format(optimal_speed))"
   ]
  },
  {
   "cell_type": "code",
   "execution_count": null,
   "metadata": {
    "collapsed": true
   },
   "outputs": [],
   "source": []
  }
 ],
 "metadata": {
  "kernelspec": {
   "display_name": "Python 3",
   "language": "python",
   "name": "python3"
  },
  "language_info": {
   "codemirror_mode": {
    "name": "ipython",
    "version": 3
   },
   "file_extension": ".py",
   "mimetype": "text/x-python",
   "name": "python",
   "nbconvert_exporter": "python",
   "pygments_lexer": "ipython3",
   "version": "3.4.3"
  }
 },
 "nbformat": 4,
 "nbformat_minor": 0
}
