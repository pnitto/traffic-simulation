{
 "cells": [
  {
   "cell_type": "code",
   "execution_count": 1,
   "metadata": {
    "collapsed": false
   },
   "outputs": [
    {
     "data": {
      "text/plain": [
       "array([1, 2, 3, 4, 5])"
      ]
     },
     "execution_count": 1,
     "metadata": {},
     "output_type": "execute_result"
    }
   ],
   "source": [
    "import numpy as np\n",
    "\n",
    "list_of_nums = np.array([1,2,3,4,5])\n",
    "matrix_of_nums = np.array([[1,2,3],\n",
    "                           [4,5,6],\n",
    "                           [7,8,9]])\n",
    "list_of_nums"
   ]
  },
  {
   "cell_type": "code",
   "execution_count": 2,
   "metadata": {
    "collapsed": false
   },
   "outputs": [
    {
     "data": {
      "text/plain": [
       "array([[1, 2, 3],\n",
       "       [4, 5, 6],\n",
       "       [7, 8, 9]])"
      ]
     },
     "execution_count": 2,
     "metadata": {},
     "output_type": "execute_result"
    }
   ],
   "source": [
    "matrix_of_nums"
   ]
  },
  {
   "cell_type": "code",
   "execution_count": 3,
   "metadata": {
    "collapsed": false
   },
   "outputs": [
    {
     "data": {
      "text/plain": [
       "array([-1,  1,  3,  5,  7])"
      ]
     },
     "execution_count": 3,
     "metadata": {},
     "output_type": "execute_result"
    }
   ],
   "source": [
    "list_of_nums * 2 - 3"
   ]
  },
  {
   "cell_type": "code",
   "execution_count": 4,
   "metadata": {
    "collapsed": false
   },
   "outputs": [
    {
     "data": {
      "text/plain": [
       "array([[  1,   8,  27],\n",
       "       [ 64, 125, 216],\n",
       "       [343, 512, 729]])"
      ]
     },
     "execution_count": 4,
     "metadata": {},
     "output_type": "execute_result"
    }
   ],
   "source": [
    "matrix_of_nums ** 3"
   ]
  },
  {
   "cell_type": "code",
   "execution_count": 5,
   "metadata": {
    "collapsed": false
   },
   "outputs": [
    {
     "data": {
      "text/plain": [
       "array([[ 2,  4,  6],\n",
       "       [ 8, 10, 12],\n",
       "       [14, 16, 18]])"
      ]
     },
     "execution_count": 5,
     "metadata": {},
     "output_type": "execute_result"
    }
   ],
   "source": [
    "matrix_of_nums + matrix_of_nums"
   ]
  },
  {
   "cell_type": "code",
   "execution_count": 6,
   "metadata": {
    "collapsed": false
   },
   "outputs": [
    {
     "data": {
      "text/plain": [
       "array([[ 2,  3,  4],\n",
       "       [ 6,  7,  8],\n",
       "       [10, 11, 12]])"
      ]
     },
     "execution_count": 6,
     "metadata": {},
     "output_type": "execute_result"
    }
   ],
   "source": [
    "matrix_of_nums + np.array([[1],\n",
    "                           [2],\n",
    "                           [3]])"
   ]
  },
  {
   "cell_type": "code",
   "execution_count": 7,
   "metadata": {
    "collapsed": false
   },
   "outputs": [
    {
     "ename": "ValueError",
     "evalue": "operands could not be broadcast together with shapes (3,3) (3,2) ",
     "output_type": "error",
     "traceback": [
      "\u001b[0;31m---------------------------------------------------------------------------\u001b[0m",
      "\u001b[0;31mValueError\u001b[0m                                Traceback (most recent call last)",
      "\u001b[0;32m<ipython-input-7-d8f43aea6eb6>\u001b[0m in \u001b[0;36m<module>\u001b[0;34m()\u001b[0m\n\u001b[1;32m      1\u001b[0m matrix_of_nums + np.array([[1, 2],\n\u001b[1;32m      2\u001b[0m                            \u001b[0;34m[\u001b[0m\u001b[0;36m2\u001b[0m\u001b[0;34m,\u001b[0m \u001b[0;36m3\u001b[0m\u001b[0;34m]\u001b[0m\u001b[0;34m,\u001b[0m\u001b[0;34m\u001b[0m\u001b[0m\n\u001b[0;32m----> 3\u001b[0;31m                            [3, 4]])\n\u001b[0m",
      "\u001b[0;31mValueError\u001b[0m: operands could not be broadcast together with shapes (3,3) (3,2) "
     ]
    }
   ],
   "source": [
    "matrix_of_nums + np.array([[1, 2],\n",
    "                           [2, 3],\n",
    "                           [3, 4]])"
   ]
  },
  {
   "cell_type": "code",
   "execution_count": 9,
   "metadata": {
    "collapsed": false
   },
   "outputs": [
    {
     "data": {
      "text/plain": [
       "array([[  2.,   4.,  inf],\n",
       "       [  5.,   7.,  inf],\n",
       "       [  8.,  10.,  inf]])"
      ]
     },
     "execution_count": 9,
     "metadata": {},
     "output_type": "execute_result"
    }
   ],
   "source": [
    "matrix_of_nums + np.array([1, 2, float('inf')])"
   ]
  },
  {
   "cell_type": "code",
   "execution_count": 10,
   "metadata": {
    "collapsed": false
   },
   "outputs": [
    {
     "name": "stdout",
     "output_type": "stream",
     "text": [
      "9\n",
      "2\n",
      "(3, 3)\n",
      "int64\n"
     ]
    }
   ],
   "source": [
    "print(matrix_of_nums.size)\n",
    "print(matrix_of_nums.ndim)\n",
    "print(matrix_of_nums.shape)\n",
    "print(matrix_of_nums.dtype)"
   ]
  },
  {
   "cell_type": "code",
   "execution_count": 12,
   "metadata": {
    "collapsed": false
   },
   "outputs": [
    {
     "data": {
      "text/plain": [
       "array([10, 13, 16, 19, 22, 25, 28, 31, 34, 37, 40, 43, 46, 49, 52, 55, 58,\n",
       "       61, 64, 67, 70, 73, 76, 79, 82, 85, 88, 91, 94, 97])"
      ]
     },
     "execution_count": 12,
     "metadata": {},
     "output_type": "execute_result"
    }
   ],
   "source": [
    "np.arange(10, 100, 3)"
   ]
  },
  {
   "cell_type": "code",
   "execution_count": 14,
   "metadata": {
    "collapsed": false
   },
   "outputs": [
    {
     "data": {
      "text/plain": [
       "array([ 0,  1,  2,  3,  4,  5,  6,  7,  8,  9, 10, 11, 12, 13, 14, 15, 16,\n",
       "       17, 18, 19])"
      ]
     },
     "execution_count": 14,
     "metadata": {},
     "output_type": "execute_result"
    }
   ],
   "source": [
    "my_range = np.arange(20)\n",
    "my_range"
   ]
  },
  {
   "cell_type": "code",
   "execution_count": 15,
   "metadata": {
    "collapsed": false
   },
   "outputs": [
    {
     "data": {
      "text/plain": [
       "array([[ 0,  1,  2,  3,  4],\n",
       "       [ 5,  6,  7,  8,  9],\n",
       "       [10, 11, 12, 13, 14],\n",
       "       [15, 16, 17, 18, 19]])"
      ]
     },
     "execution_count": 15,
     "metadata": {},
     "output_type": "execute_result"
    }
   ],
   "source": [
    "my_range = my_range.reshape((4, 5))\n",
    "my_range"
   ]
  },
  {
   "cell_type": "code",
   "execution_count": 16,
   "metadata": {
    "collapsed": false
   },
   "outputs": [
    {
     "data": {
      "text/plain": [
       "array([[ 0,  5, 10, 15],\n",
       "       [ 1,  6, 11, 16],\n",
       "       [ 2,  7, 12, 17],\n",
       "       [ 3,  8, 13, 18],\n",
       "       [ 4,  9, 14, 19]])"
      ]
     },
     "execution_count": 16,
     "metadata": {},
     "output_type": "execute_result"
    }
   ],
   "source": [
    "my_range.swapaxes(0, 1)\n"
   ]
  },
  {
   "cell_type": "code",
   "execution_count": 17,
   "metadata": {
    "collapsed": false
   },
   "outputs": [
    {
     "data": {
      "text/plain": [
       "array([[81, 65, 83, 74],\n",
       "       [24, 99, 20, 50],\n",
       "       [ 8,  3, 32, 28],\n",
       "       [68, 71, 20, 39],\n",
       "       [61, 38, 52, 35]])"
      ]
     },
     "execution_count": 17,
     "metadata": {},
     "output_type": "execute_result"
    }
   ],
   "source": [
    "nums = np.random.randint(1, 100, (5,4))\n",
    "nums"
   ]
  },
  {
   "cell_type": "code",
   "execution_count": 18,
   "metadata": {
    "collapsed": false
   },
   "outputs": [
    {
     "name": "stdout",
     "output_type": "stream",
     "text": [
      "Max: 99\n",
      "Min: 3\n",
      "Mean: 47.55\n",
      "Sum: 951\n"
     ]
    }
   ],
   "source": [
    "print(\"Max:\", nums.max())\n",
    "print(\"Min:\", nums.min())\n",
    "print(\"Mean:\", nums.mean())\n",
    "print(\"Sum:\", nums.sum())"
   ]
  },
  {
   "cell_type": "code",
   "execution_count": 19,
   "metadata": {
    "collapsed": false
   },
   "outputs": [
    {
     "name": "stdout",
     "output_type": "stream",
     "text": [
      "Max: [81 99 83 74]\n",
      "Min: [ 8  3 20 28]\n",
      "Sum: [242 276 207 226]\n",
      "Mean: [ 48.4  55.2  41.4  45.2]\n"
     ]
    }
   ],
   "source": [
    "print(\"Max:\",nums.max(axis=0))\n",
    "print(\"Min:\",nums.min(axis=0))\n",
    "print(\"Sum:\",nums.sum(axis=0))\n",
    "print(\"Mean:\",nums.mean(axis=0))"
   ]
  },
  {
   "cell_type": "code",
   "execution_count": 20,
   "metadata": {
    "collapsed": false
   },
   "outputs": [
    {
     "data": {
      "text/plain": [
       "array([[ 81, 146, 229, 303],\n",
       "       [ 24, 123, 143, 193],\n",
       "       [  8,  11,  43,  71],\n",
       "       [ 68, 139, 159, 198],\n",
       "       [ 61,  99, 151, 186]])"
      ]
     },
     "execution_count": 20,
     "metadata": {},
     "output_type": "execute_result"
    }
   ],
   "source": [
    "nums.cumsum(axis=1)"
   ]
  },
  {
   "cell_type": "code",
   "execution_count": 21,
   "metadata": {
    "collapsed": false
   },
   "outputs": [
    {
     "data": {
      "text/plain": [
       "array([[29,  3, 44, 13],\n",
       "       [12, 80, 53, 81],\n",
       "       [18, 18, 63, 36],\n",
       "       [51, 85, 20,  1],\n",
       "       [84,  7, 68, 50]])"
      ]
     },
     "execution_count": 21,
     "metadata": {},
     "output_type": "execute_result"
    }
   ],
   "source": [
    "nums = np.random.randint(1, 100, (5,4))\n",
    "nums"
   ]
  },
  {
   "cell_type": "code",
   "execution_count": 29,
   "metadata": {
    "collapsed": false
   },
   "outputs": [
    {
     "data": {
      "text/plain": [
       "12"
      ]
     },
     "execution_count": 29,
     "metadata": {},
     "output_type": "execute_result"
    }
   ],
   "source": [
    "nums[2,3]\n",
    "nums[1,0]"
   ]
  },
  {
   "cell_type": "code",
   "execution_count": 30,
   "metadata": {
    "collapsed": false
   },
   "outputs": [
    {
     "data": {
      "text/plain": [
       "array([[ 3, 44],\n",
       "       [80, 53]])"
      ]
     },
     "execution_count": 30,
     "metadata": {},
     "output_type": "execute_result"
    }
   ],
   "source": [
    "nums [0:2, 1:3]"
   ]
  },
  {
   "cell_type": "code",
   "execution_count": 33,
   "metadata": {
    "collapsed": false
   },
   "outputs": [
    {
     "name": "stdout",
     "output_type": "stream",
     "text": [
      "{'a': 3, 'b': 1, 'n': 2}\n"
     ]
    }
   ],
   "source": [
    "word = \"banana\"\n",
    "\n",
    "expected_histogram = {\n",
    "    \"b\": 1,\n",
    "    \"a\": 3,\n",
    "    \"n\": 2\n",
    "}\n",
    "\n",
    "def convert_to_histogram(word):\n",
    "    histogram = {}\n",
    "    for character in word:\n",
    "        if character in histogram:\n",
    "            histogram[character] = histogram[character] + 1\n",
    "        else:\n",
    "            histogram[character] = 1\n",
    "    return histogram\n",
    "\n",
    "returned_histogram = convert_to_histogram(word)\n",
    "print(returned_histogram)\n",
    "            "
   ]
  },
  {
   "cell_type": "code",
   "execution_count": 34,
   "metadata": {
    "collapsed": false
   },
   "outputs": [
    {
     "name": "stdout",
     "output_type": "stream",
     "text": [
      "945.4500000000012\n"
     ]
    }
   ],
   "source": [
    "cover_price = 24.95\n",
    "discount = .4\n",
    "discounted_cover_price = cover_price - (cover_price * discount)\n",
    "shipping_cost = 3\n",
    "secondary_shipping_cost = .75\n",
    "\n",
    "def get_shipping_cost(index, shipping_cost, secondary_shipping_cost):\n",
    "    local_shipping_cost = secondary_shipping_cost\n",
    "    if index == 0:\n",
    "        local_shipping_cost = shipping_cost\n",
    "    return local_shipping_cost\n",
    "\n",
    "def calculate_total_wholesale_cost(copies):\n",
    "    total_wholesale_cost = 0\n",
    "    for index in range(60):\n",
    "        local_shipping_cost = get_shipping_cost(index, shipping_cost, secondary_shipping_cost)\n",
    "        total_wholesale_cost += local_shipping_cost\n",
    "        total_wholesale_cost += discounted_cover_price\n",
    "    return total_wholesale_cost\n",
    "wholesale_cost = calculate_total_wholesale_cost(60)\n",
    "print(wholesale_cost)"
   ]
  },
  {
   "cell_type": "code",
   "execution_count": 76,
   "metadata": {
    "collapsed": false
   },
   "outputs": [
    {
     "ename": "NameError",
     "evalue": "name 'difficulty' is not defined",
     "output_type": "error",
     "traceback": [
      "\u001b[0;31m---------------------------------------------------------------------------\u001b[0m",
      "\u001b[0;31mNameError\u001b[0m                                 Traceback (most recent call last)",
      "\u001b[0;32m<ipython-input-76-0d905d941e28>\u001b[0m in \u001b[0;36m<module>\u001b[0;34m()\u001b[0m\n\u001b[1;32m    110\u001b[0m \u001b[0;31m#slope = Slopes()\u001b[0m\u001b[0;34m\u001b[0m\u001b[0;34m\u001b[0m\u001b[0m\n\u001b[1;32m    111\u001b[0m \u001b[0;31m#slope.pick_slope_difficulty()\u001b[0m\u001b[0;34m\u001b[0m\u001b[0;34m\u001b[0m\u001b[0m\n\u001b[0;32m--> 112\u001b[0;31m \u001b[0mtrail\u001b[0m \u001b[0;34m=\u001b[0m \u001b[0mTrail\u001b[0m\u001b[0;34m(\u001b[0m\u001b[0;34m)\u001b[0m\u001b[0;34m\u001b[0m\u001b[0m\n\u001b[0m\u001b[1;32m    113\u001b[0m \u001b[0mtrail\u001b[0m\u001b[0;34m.\u001b[0m\u001b[0mgreen_trail\u001b[0m\u001b[0;34m(\u001b[0m\u001b[0;34m)\u001b[0m\u001b[0;34m\u001b[0m\u001b[0m\n",
      "\u001b[0;32m<ipython-input-76-0d905d941e28>\u001b[0m in \u001b[0;36m__init__\u001b[0;34m(self)\u001b[0m\n\u001b[1;32m     69\u001b[0m         \u001b[0mself\u001b[0m\u001b[0;34m.\u001b[0m\u001b[0mblue_trail\u001b[0m \u001b[0;34m=\u001b[0m \u001b[0;36m200\u001b[0m\u001b[0;34m\u001b[0m\u001b[0m\n\u001b[1;32m     70\u001b[0m         \u001b[0mself\u001b[0m\u001b[0;34m.\u001b[0m\u001b[0mblack_trail\u001b[0m \u001b[0;34m=\u001b[0m \u001b[0;36m250\u001b[0m\u001b[0;34m\u001b[0m\u001b[0m\n\u001b[0;32m---> 71\u001b[0;31m         \u001b[0mself\u001b[0m\u001b[0;34m.\u001b[0m\u001b[0mdifficulty\u001b[0m \u001b[0;34m=\u001b[0m \u001b[0mdifficulty\u001b[0m\u001b[0;34m\u001b[0m\u001b[0m\n\u001b[0m\u001b[1;32m     72\u001b[0m \u001b[0;34m\u001b[0m\u001b[0m\n\u001b[1;32m     73\u001b[0m     \u001b[0;32mdef\u001b[0m \u001b[0mtrail_pick\u001b[0m\u001b[0;34m(\u001b[0m\u001b[0mself\u001b[0m\u001b[0;34m)\u001b[0m\u001b[0;34m:\u001b[0m\u001b[0;34m\u001b[0m\u001b[0m\n",
      "\u001b[0;31mNameError\u001b[0m: name 'difficulty' is not defined"
     ]
    }
   ],
   "source": [
    "class Snowboard:\n",
    "    \n",
    "    def __init__(self):\n",
    "        self.board_width = \"\"\n",
    "        self.board_length = \"\"\n",
    "        self.board_choice = \"\"\n",
    "    \n",
    "    def __str__(self):\n",
    "        return \"You have picked a {} with a width of {} and length of {}\".format(self.board_width,self.board_length, self.board_choice)\n",
    "        #How to take the user input and put the choice into these spaces ^^^^^\n",
    "    \n",
    "    def pick_snow_board_width(self):\n",
    "        self.board_width = input(\"Pick: Wide, Mid_wide, or Regular >  \")\n",
    "        if self.board_width == \"Wide\":\n",
    "            return \"You have chosen a wide board.\"\n",
    "        elif self.board_width == \"Mid_wide\":\n",
    "            return \"You have chosen a mid-wide board.\"\n",
    "        elif self.board_width == \"Regular\":\n",
    "            return \"You have chose a regular board\"\n",
    "        else:\n",
    "            return \"Not a board width\"\n",
    "        return self.board_width\n",
    "   \n",
    "    def pick_snow_board_length(self):\n",
    "        self.board_length = input(\"Pick: 165, 168, 169 > \")\n",
    "        if self.board_length == \"165\":\n",
    "            return \"You chose a 165mm board length\"\n",
    "        elif self.board_length == \"168\":\n",
    "            return \"You chose a 168mm board length\"\n",
    "        elif self.board_length == \"169\":\n",
    "            return \"You chose a 169mm board length\"\n",
    "        else:\n",
    "            \"Not a board length\"\n",
    "        return self.board_length\n",
    "    \n",
    "    def pick_snowboard(self):\n",
    "        self.board_choice = input(\"Pick: Burton, Lib-Tech, or Ride >  \")\n",
    "        if self.board_choice == \"Burton\":\n",
    "            return \"Boo, You picked a Burton board.\"\n",
    "        elif self.board_choice == \"Lib_Tech\":\n",
    "            return \"Yay, You picked a Lib_Tech board\"\n",
    "        elif self.board_choice == \"Ride\":\n",
    "            return \"You picked a Ride board\"\n",
    "        return self.board_choice\n",
    "\n",
    "class Slopes:\n",
    "    \n",
    "    def __init__(self):\n",
    "        self.difficulty = \"\"\n",
    "    \n",
    "    def __str__(self):\n",
    "        return \"You pick {} as your difficulty\".format(self.difficulty)\n",
    "    \n",
    "    def pick_slope_difficulty(self):\n",
    "        self.difficulty = input(\"Please pick a slope difficulty: Green, Blue, or Black_Diamond  >\")\n",
    "        if self.difficulty == \"Green\":\n",
    "            return \"You must be a beginner\"\n",
    "        elif self.difficulty == \"Blue\":\n",
    "            return \"You must be average\"\n",
    "        elif self.difficulty == \"Black_Diamond\":\n",
    "            return \"You must know what you are doing.\"\n",
    "        return self.difficulty\n",
    "\n",
    "class Trail():\n",
    "    \n",
    "    def __init__(self):\n",
    "        self.speed = 0\n",
    "        self.green_trail = 150\n",
    "        self.blue_trail = 200\n",
    "        self.black_trail = 250\n",
    "    \n",
    "    def trail_pick(self):\n",
    "        self.pick_slope_difficulty()\n",
    "        if self.difficulty == \"Green\":\n",
    "            return self.green_trail\n",
    "        elif self.difficulty == \"Blue\":\n",
    "            return self.blue_trail\n",
    "        elif self.difficulty == \"Black_Diamond\":\n",
    "            return self.black_trail\n",
    "        else:\n",
    "            \"Not a trail pick.\"\n",
    "    \n",
    "    def update(self):\n",
    "        self.traffic = random.randint(0,1)\n",
    "        if self.traffic == 0:\n",
    "            self.speed += 2\n",
    "            return \"You found a hole through the people\"\n",
    "        else:\n",
    "            self.speed -= 2\n",
    "            return \"There were too many people in front of you\"\n",
    "            \n",
    "    \n",
    "    def green_trail(self, speed=14, green_trail=150):\n",
    "        if self.speed == 0:\n",
    "            self.speed += 2\n",
    "            while self.speed > 0 <= 14:\n",
    "                self.update()\n",
    "            \n",
    "    def blue_trail(self):\n",
    "        pass\n",
    "    def black_trail(self):\n",
    "        pass\n",
    "        \n",
    "        \n",
    "#snowboard = Snowboard()\n",
    "#snowboard.pick_snow_board_width()\n",
    "#snowboard.pick_snow_board_length()\n",
    "#snowboard.pick_snowboard()\n",
    "#slope = Slopes()\n",
    "#slope.pick_slope_difficulty()\n",
    "trail = Trail()\n",
    "trail.green_trail()\n"
   ]
  },
  {
   "cell_type": "code",
   "execution_count": null,
   "metadata": {
    "collapsed": true
   },
   "outputs": [],
   "source": []
  }
 ],
 "metadata": {
  "kernelspec": {
   "display_name": "Python 3",
   "language": "python",
   "name": "python3"
  },
  "language_info": {
   "codemirror_mode": {
    "name": "ipython",
    "version": 3
   },
   "file_extension": ".py",
   "mimetype": "text/x-python",
   "name": "python",
   "nbconvert_exporter": "python",
   "pygments_lexer": "ipython3",
   "version": "3.4.3"
  }
 },
 "nbformat": 4,
 "nbformat_minor": 0
}
